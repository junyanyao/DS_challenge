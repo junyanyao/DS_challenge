{
 "cells": [
  {
   "cell_type": "markdown",
   "metadata": {},
   "source": [
    "The company of this exercise is a social network. They decided to add a feature called: Recommended Friends, i.e. they suggest people you may know.\n",
    "A data scientist has built a model to suggest 5 people to each user. These potential friends will be shown on the user newsfeed. At first, the model is tested just on a random subset of users to see how it performs compared to the newsfeed without the new feature.\n",
    "The test has been running for some time and your boss asks you to check the results. You are asked to check, for each user, the number of pages visited during their first session since the test started. If this number increased, the test is a success.\n",
    "\n",
    "Specifically, your boss wants to know:\n",
    "1. Is the test winning? That is, should 100% of the users see the Recommended Friends feature?\n",
    "2. Is the test performing similarly for all user segments or are there differences among different segments?\n",
    "3. If you identified segments that responded differently to the test, can you guess the reason? Would this change your point 1 conclusions?"
   ]
  },
  {
   "cell_type": "code",
   "execution_count": 45,
   "metadata": {},
   "outputs": [],
   "source": [
    "import pandas as pd\n",
    "import numpy as np\n",
    "import matplotlib.pyplot as plt\n",
    "import seaborn as sns\n",
    "import scipy.stats as ss"
   ]
  },
  {
   "cell_type": "code",
   "execution_count": 2,
   "metadata": {},
   "outputs": [],
   "source": [
    "test_table = pd.read_csv('test_table.csv')"
   ]
  },
  {
   "cell_type": "code",
   "execution_count": 3,
   "metadata": {},
   "outputs": [],
   "source": [
    "user_table = pd.read_csv('user_table.csv')"
   ]
  },
  {
   "cell_type": "code",
   "execution_count": 4,
   "metadata": {},
   "outputs": [
    {
     "data": {
      "text/html": [
       "<div>\n",
       "<style scoped>\n",
       "    .dataframe tbody tr th:only-of-type {\n",
       "        vertical-align: middle;\n",
       "    }\n",
       "\n",
       "    .dataframe tbody tr th {\n",
       "        vertical-align: top;\n",
       "    }\n",
       "\n",
       "    .dataframe thead th {\n",
       "        text-align: right;\n",
       "    }\n",
       "</style>\n",
       "<table border=\"1\" class=\"dataframe\">\n",
       "  <thead>\n",
       "    <tr style=\"text-align: right;\">\n",
       "      <th></th>\n",
       "      <th>user_id</th>\n",
       "      <th>date</th>\n",
       "      <th>browser</th>\n",
       "      <th>test</th>\n",
       "      <th>pages_visited</th>\n",
       "    </tr>\n",
       "  </thead>\n",
       "  <tbody>\n",
       "    <tr>\n",
       "      <th>0</th>\n",
       "      <td>600597</td>\n",
       "      <td>2015-08-13</td>\n",
       "      <td>IE</td>\n",
       "      <td>0</td>\n",
       "      <td>2</td>\n",
       "    </tr>\n",
       "    <tr>\n",
       "      <th>1</th>\n",
       "      <td>4410028</td>\n",
       "      <td>2015-08-26</td>\n",
       "      <td>Chrome</td>\n",
       "      <td>1</td>\n",
       "      <td>5</td>\n",
       "    </tr>\n",
       "    <tr>\n",
       "      <th>2</th>\n",
       "      <td>6004777</td>\n",
       "      <td>2015-08-17</td>\n",
       "      <td>Chrome</td>\n",
       "      <td>0</td>\n",
       "      <td>8</td>\n",
       "    </tr>\n",
       "    <tr>\n",
       "      <th>3</th>\n",
       "      <td>5990330</td>\n",
       "      <td>2015-08-27</td>\n",
       "      <td>Safari</td>\n",
       "      <td>0</td>\n",
       "      <td>8</td>\n",
       "    </tr>\n",
       "    <tr>\n",
       "      <th>4</th>\n",
       "      <td>3622310</td>\n",
       "      <td>2015-08-07</td>\n",
       "      <td>Firefox</td>\n",
       "      <td>0</td>\n",
       "      <td>1</td>\n",
       "    </tr>\n",
       "  </tbody>\n",
       "</table>\n",
       "</div>"
      ],
      "text/plain": [
       "   user_id        date  browser  test  pages_visited\n",
       "0   600597  2015-08-13       IE     0              2\n",
       "1  4410028  2015-08-26   Chrome     1              5\n",
       "2  6004777  2015-08-17   Chrome     0              8\n",
       "3  5990330  2015-08-27   Safari     0              8\n",
       "4  3622310  2015-08-07  Firefox     0              1"
      ]
     },
     "execution_count": 4,
     "metadata": {},
     "output_type": "execute_result"
    }
   ],
   "source": [
    "test_table.head()"
   ]
  },
  {
   "cell_type": "code",
   "execution_count": 5,
   "metadata": {},
   "outputs": [
    {
     "data": {
      "text/html": [
       "<div>\n",
       "<style scoped>\n",
       "    .dataframe tbody tr th:only-of-type {\n",
       "        vertical-align: middle;\n",
       "    }\n",
       "\n",
       "    .dataframe tbody tr th {\n",
       "        vertical-align: top;\n",
       "    }\n",
       "\n",
       "    .dataframe thead th {\n",
       "        text-align: right;\n",
       "    }\n",
       "</style>\n",
       "<table border=\"1\" class=\"dataframe\">\n",
       "  <thead>\n",
       "    <tr style=\"text-align: right;\">\n",
       "      <th></th>\n",
       "      <th>user_id</th>\n",
       "      <th>signup_date</th>\n",
       "    </tr>\n",
       "  </thead>\n",
       "  <tbody>\n",
       "    <tr>\n",
       "      <th>0</th>\n",
       "      <td>34</td>\n",
       "      <td>2015-01-01</td>\n",
       "    </tr>\n",
       "    <tr>\n",
       "      <th>1</th>\n",
       "      <td>59</td>\n",
       "      <td>2015-01-01</td>\n",
       "    </tr>\n",
       "    <tr>\n",
       "      <th>2</th>\n",
       "      <td>178</td>\n",
       "      <td>2015-01-01</td>\n",
       "    </tr>\n",
       "    <tr>\n",
       "      <th>3</th>\n",
       "      <td>285</td>\n",
       "      <td>2015-01-01</td>\n",
       "    </tr>\n",
       "    <tr>\n",
       "      <th>4</th>\n",
       "      <td>383</td>\n",
       "      <td>2015-01-01</td>\n",
       "    </tr>\n",
       "  </tbody>\n",
       "</table>\n",
       "</div>"
      ],
      "text/plain": [
       "   user_id signup_date\n",
       "0       34  2015-01-01\n",
       "1       59  2015-01-01\n",
       "2      178  2015-01-01\n",
       "3      285  2015-01-01\n",
       "4      383  2015-01-01"
      ]
     },
     "execution_count": 5,
     "metadata": {},
     "output_type": "execute_result"
    }
   ],
   "source": [
    "user_table.head()"
   ]
  },
  {
   "cell_type": "code",
   "execution_count": 6,
   "metadata": {},
   "outputs": [],
   "source": [
    "## Metrics is the number of page visited per session"
   ]
  },
  {
   "cell_type": "code",
   "execution_count": 12,
   "metadata": {},
   "outputs": [
    {
     "data": {
      "image/png": "[encoded data removed]",
      "text/plain": [
       "<Figure size 720x576 with 1 Axes>"
      ]
     },
     "metadata": {
      "needs_background": "light"
     },
     "output_type": "display_data"
    }
   ],
   "source": [
    "fig, ax = plt.subplots(figsize = (10,8))\n",
    "sns.distplot(test_table[test_table['test'] ==0]['pages_visited'], ax= ax)\n",
    "sns.distplot(test_table[test_table['test'] ==1]['pages_visited'], ax= ax)\n",
    "fig.legend(labels=['test = 0','test = 1'])\n",
    "plt.show()"
   ]
  },
  {
   "cell_type": "code",
   "execution_count": 23,
   "metadata": {},
   "outputs": [],
   "source": [
    "grouped_browser= test_table.groupby(['browser', 'test'])['pages_visited'].mean().reset_index()"
   ]
  },
  {
   "cell_type": "code",
   "execution_count": 24,
   "metadata": {},
   "outputs": [
    {
     "data": {
      "text/html": [
       "<div>\n",
       "<style scoped>\n",
       "    .dataframe tbody tr th:only-of-type {\n",
       "        vertical-align: middle;\n",
       "    }\n",
       "\n",
       "    .dataframe tbody tr th {\n",
       "        vertical-align: top;\n",
       "    }\n",
       "\n",
       "    .dataframe thead th {\n",
       "        text-align: right;\n",
       "    }\n",
       "</style>\n",
       "<table border=\"1\" class=\"dataframe\">\n",
       "  <thead>\n",
       "    <tr style=\"text-align: right;\">\n",
       "      <th></th>\n",
       "      <th>browser</th>\n",
       "      <th>test</th>\n",
       "      <th>pages_visited</th>\n",
       "    </tr>\n",
       "  </thead>\n",
       "  <tbody>\n",
       "    <tr>\n",
       "      <th>0</th>\n",
       "      <td>Chrome</td>\n",
       "      <td>0</td>\n",
       "      <td>4.613341</td>\n",
       "    </tr>\n",
       "    <tr>\n",
       "      <th>1</th>\n",
       "      <td>Chrome</td>\n",
       "      <td>1</td>\n",
       "      <td>4.690680</td>\n",
       "    </tr>\n",
       "    <tr>\n",
       "      <th>2</th>\n",
       "      <td>Firefox</td>\n",
       "      <td>0</td>\n",
       "      <td>4.600164</td>\n",
       "    </tr>\n",
       "    <tr>\n",
       "      <th>3</th>\n",
       "      <td>Firefox</td>\n",
       "      <td>1</td>\n",
       "      <td>4.714259</td>\n",
       "    </tr>\n",
       "    <tr>\n",
       "      <th>4</th>\n",
       "      <td>IE</td>\n",
       "      <td>0</td>\n",
       "      <td>4.598478</td>\n",
       "    </tr>\n",
       "    <tr>\n",
       "      <th>5</th>\n",
       "      <td>IE</td>\n",
       "      <td>1</td>\n",
       "      <td>4.685985</td>\n",
       "    </tr>\n",
       "    <tr>\n",
       "      <th>6</th>\n",
       "      <td>Opera</td>\n",
       "      <td>0</td>\n",
       "      <td>4.546438</td>\n",
       "    </tr>\n",
       "    <tr>\n",
       "      <th>7</th>\n",
       "      <td>Opera</td>\n",
       "      <td>1</td>\n",
       "      <td>0.000000</td>\n",
       "    </tr>\n",
       "    <tr>\n",
       "      <th>8</th>\n",
       "      <td>Safari</td>\n",
       "      <td>0</td>\n",
       "      <td>4.638180</td>\n",
       "    </tr>\n",
       "    <tr>\n",
       "      <th>9</th>\n",
       "      <td>Safari</td>\n",
       "      <td>1</td>\n",
       "      <td>4.692336</td>\n",
       "    </tr>\n",
       "  </tbody>\n",
       "</table>\n",
       "</div>"
      ],
      "text/plain": [
       "   browser  test  pages_visited\n",
       "0   Chrome     0       4.613341\n",
       "1   Chrome     1       4.690680\n",
       "2  Firefox     0       4.600164\n",
       "3  Firefox     1       4.714259\n",
       "4       IE     0       4.598478\n",
       "5       IE     1       4.685985\n",
       "6    Opera     0       4.546438\n",
       "7    Opera     1       0.000000\n",
       "8   Safari     0       4.638180\n",
       "9   Safari     1       4.692336"
      ]
     },
     "execution_count": 24,
     "metadata": {},
     "output_type": "execute_result"
    }
   ],
   "source": [
    "grouped_browser"
   ]
  },
  {
   "cell_type": "code",
   "execution_count": 26,
   "metadata": {},
   "outputs": [
    {
     "data": {
      "text/plain": [
       "<matplotlib.axes._subplots.AxesSubplot at 0x11c00f908>"
      ]
     },
     "execution_count": 26,
     "metadata": {},
     "output_type": "execute_result"
    },
    {
     "data": {
      "image/png": "[encoded data removed]",
      "text/plain": [
       "<Figure size 432x288 with 1 Axes>"
      ]
     },
     "metadata": {
      "needs_background": "light"
     },
     "output_type": "display_data"
    }
   ],
   "source": [
    "sns.barplot(y ='pages_visited', x= 'browser',hue = 'test', data= grouped_browser )"
   ]
  },
  {
   "cell_type": "code",
   "execution_count": 27,
   "metadata": {},
   "outputs": [],
   "source": [
    "df = test_table.merge(user_table, how = 'left', on = 'user_id')"
   ]
  },
  {
   "cell_type": "code",
   "execution_count": 31,
   "metadata": {},
   "outputs": [
    {
     "data": {
      "text/html": [
       "<div>\n",
       "<style scoped>\n",
       "    .dataframe tbody tr th:only-of-type {\n",
       "        vertical-align: middle;\n",
       "    }\n",
       "\n",
       "    .dataframe tbody tr th {\n",
       "        vertical-align: top;\n",
       "    }\n",
       "\n",
       "    .dataframe thead th {\n",
       "        text-align: right;\n",
       "    }\n",
       "</style>\n",
       "<table border=\"1\" class=\"dataframe\">\n",
       "  <thead>\n",
       "    <tr style=\"text-align: right;\">\n",
       "      <th></th>\n",
       "      <th>user_id</th>\n",
       "      <th>date</th>\n",
       "      <th>browser</th>\n",
       "      <th>test</th>\n",
       "      <th>pages_visited</th>\n",
       "      <th>signup_date</th>\n",
       "    </tr>\n",
       "  </thead>\n",
       "  <tbody>\n",
       "    <tr>\n",
       "      <th>0</th>\n",
       "      <td>600597</td>\n",
       "      <td>2015-08-13</td>\n",
       "      <td>IE</td>\n",
       "      <td>0</td>\n",
       "      <td>2</td>\n",
       "      <td>2015-01-19</td>\n",
       "    </tr>\n",
       "    <tr>\n",
       "      <th>1</th>\n",
       "      <td>4410028</td>\n",
       "      <td>2015-08-26</td>\n",
       "      <td>Chrome</td>\n",
       "      <td>1</td>\n",
       "      <td>5</td>\n",
       "      <td>2015-05-11</td>\n",
       "    </tr>\n",
       "    <tr>\n",
       "      <th>2</th>\n",
       "      <td>6004777</td>\n",
       "      <td>2015-08-17</td>\n",
       "      <td>Chrome</td>\n",
       "      <td>0</td>\n",
       "      <td>8</td>\n",
       "      <td>2015-06-26</td>\n",
       "    </tr>\n",
       "    <tr>\n",
       "      <th>3</th>\n",
       "      <td>5990330</td>\n",
       "      <td>2015-08-27</td>\n",
       "      <td>Safari</td>\n",
       "      <td>0</td>\n",
       "      <td>8</td>\n",
       "      <td>2015-06-25</td>\n",
       "    </tr>\n",
       "    <tr>\n",
       "      <th>4</th>\n",
       "      <td>3622310</td>\n",
       "      <td>2015-08-07</td>\n",
       "      <td>Firefox</td>\n",
       "      <td>0</td>\n",
       "      <td>1</td>\n",
       "      <td>2015-04-17</td>\n",
       "    </tr>\n",
       "  </tbody>\n",
       "</table>\n",
       "</div>"
      ],
      "text/plain": [
       "   user_id        date  browser  test  pages_visited signup_date\n",
       "0   600597  2015-08-13       IE     0              2  2015-01-19\n",
       "1  4410028  2015-08-26   Chrome     1              5  2015-05-11\n",
       "2  6004777  2015-08-17   Chrome     0              8  2015-06-26\n",
       "3  5990330  2015-08-27   Safari     0              8  2015-06-25\n",
       "4  3622310  2015-08-07  Firefox     0              1  2015-04-17"
      ]
     },
     "execution_count": 31,
     "metadata": {},
     "output_type": "execute_result"
    }
   ],
   "source": [
    "df.head()"
   ]
  },
  {
   "cell_type": "code",
   "execution_count": 34,
   "metadata": {},
   "outputs": [],
   "source": [
    "df['date'] = pd.to_datetime(df['date'])\n",
    "df['signup_date'] = pd.to_datetime(df['signup_date'])"
   ]
  },
  {
   "cell_type": "code",
   "execution_count": 37,
   "metadata": {},
   "outputs": [],
   "source": [
    "df['days'] = (df['date'] - df['signup_date']).dt.days"
   ]
  },
  {
   "cell_type": "code",
   "execution_count": 39,
   "metadata": {},
   "outputs": [
    {
     "data": {
      "text/html": [
       "<div>\n",
       "<style scoped>\n",
       "    .dataframe tbody tr th:only-of-type {\n",
       "        vertical-align: middle;\n",
       "    }\n",
       "\n",
       "    .dataframe tbody tr th {\n",
       "        vertical-align: top;\n",
       "    }\n",
       "\n",
       "    .dataframe thead th {\n",
       "        text-align: right;\n",
       "    }\n",
       "</style>\n",
       "<table border=\"1\" class=\"dataframe\">\n",
       "  <thead>\n",
       "    <tr style=\"text-align: right;\">\n",
       "      <th></th>\n",
       "      <th>user_id</th>\n",
       "      <th>date</th>\n",
       "      <th>browser</th>\n",
       "      <th>test</th>\n",
       "      <th>pages_visited</th>\n",
       "      <th>signup_date</th>\n",
       "      <th>days</th>\n",
       "    </tr>\n",
       "  </thead>\n",
       "  <tbody>\n",
       "    <tr>\n",
       "      <th>0</th>\n",
       "      <td>600597</td>\n",
       "      <td>2015-08-13</td>\n",
       "      <td>IE</td>\n",
       "      <td>0</td>\n",
       "      <td>2</td>\n",
       "      <td>2015-01-19</td>\n",
       "      <td>206</td>\n",
       "    </tr>\n",
       "    <tr>\n",
       "      <th>1</th>\n",
       "      <td>4410028</td>\n",
       "      <td>2015-08-26</td>\n",
       "      <td>Chrome</td>\n",
       "      <td>1</td>\n",
       "      <td>5</td>\n",
       "      <td>2015-05-11</td>\n",
       "      <td>107</td>\n",
       "    </tr>\n",
       "    <tr>\n",
       "      <th>2</th>\n",
       "      <td>6004777</td>\n",
       "      <td>2015-08-17</td>\n",
       "      <td>Chrome</td>\n",
       "      <td>0</td>\n",
       "      <td>8</td>\n",
       "      <td>2015-06-26</td>\n",
       "      <td>52</td>\n",
       "    </tr>\n",
       "    <tr>\n",
       "      <th>3</th>\n",
       "      <td>5990330</td>\n",
       "      <td>2015-08-27</td>\n",
       "      <td>Safari</td>\n",
       "      <td>0</td>\n",
       "      <td>8</td>\n",
       "      <td>2015-06-25</td>\n",
       "      <td>63</td>\n",
       "    </tr>\n",
       "    <tr>\n",
       "      <th>4</th>\n",
       "      <td>3622310</td>\n",
       "      <td>2015-08-07</td>\n",
       "      <td>Firefox</td>\n",
       "      <td>0</td>\n",
       "      <td>1</td>\n",
       "      <td>2015-04-17</td>\n",
       "      <td>112</td>\n",
       "    </tr>\n",
       "  </tbody>\n",
       "</table>\n",
       "</div>"
      ],
      "text/plain": [
       "   user_id       date  browser  test  pages_visited signup_date  days\n",
       "0   600597 2015-08-13       IE     0              2  2015-01-19   206\n",
       "1  4410028 2015-08-26   Chrome     1              5  2015-05-11   107\n",
       "2  6004777 2015-08-17   Chrome     0              8  2015-06-26    52\n",
       "3  5990330 2015-08-27   Safari     0              8  2015-06-25    63\n",
       "4  3622310 2015-08-07  Firefox     0              1  2015-04-17   112"
      ]
     },
     "execution_count": 39,
     "metadata": {},
     "output_type": "execute_result"
    }
   ],
   "source": [
    "df.head()"
   ]
  },
  {
   "cell_type": "code",
   "execution_count": 41,
   "metadata": {},
   "outputs": [
    {
     "data": {
      "text/plain": [
       "<matplotlib.axes._subplots.AxesSubplot at 0x11cc8bc50>"
      ]
     },
     "execution_count": 41,
     "metadata": {},
     "output_type": "execute_result"
    },
    {
     "data": {
      "image/png": "[encoded data removed]",
      "text/plain": [
       "<Figure size 432x288 with 1 Axes>"
      ]
     },
     "metadata": {
      "needs_background": "light"
     },
     "output_type": "display_data"
    }
   ],
   "source": [
    "sns.distplot(df['days'])"
   ]
  },
  {
   "cell_type": "markdown",
   "metadata": {},
   "source": [
    "### Question 1: Is the test winning? That is, should 100% of the users see the Recommended Friends feature?"
   ]
  },
  {
   "cell_type": "code",
   "execution_count": 43,
   "metadata": {},
   "outputs": [],
   "source": [
    "control= test_table[test_table['test'] == 0]['pages_visited'].values\n",
    "test = test_table[test_table['test'] == 1]['pages_visited'].values"
   ]
  },
  {
   "cell_type": "code",
   "execution_count": 46,
   "metadata": {},
   "outputs": [
    {
     "data": {
      "text/plain": [
       "Ttest_indResult(statistic=-0.5571118435554797, pvalue=0.5774523171559118)"
      ]
     },
     "execution_count": 46,
     "metadata": {},
     "output_type": "execute_result"
    }
   ],
   "source": [
    "ss.ttest_ind(test, control, equal_var= False)"
   ]
  },
  {
   "cell_type": "code",
   "execution_count": 47,
   "metadata": {},
   "outputs": [
    {
     "data": {
      "text/plain": [
       "0.5774523171559118"
      ]
     },
     "execution_count": 47,
     "metadata": {},
     "output_type": "execute_result"
    }
   ],
   "source": [
    "ss.ttest_ind(test, control, equal_var= False).pvalue"
   ]
  },
  {
   "cell_type": "markdown",
   "metadata": {},
   "source": [
    "P value is 0.577 which is much greater than 0.05. The test result is not statistically significant"
   ]
  },
  {
   "cell_type": "markdown",
   "metadata": {},
   "source": [
    "### Question 2: Is the test performing similarly for all user segments or are there differences among different segments?"
   ]
  },
  {
   "cell_type": "markdown",
   "metadata": {},
   "source": [
    "Please check above data visulization. Clearly the browser type, Opera has 0 page vi"
   ]
  },
  {
   "cell_type": "code",
   "execution_count": 49,
   "metadata": {},
   "outputs": [],
   "source": [
    "# remove the browser Opera\n",
    "subset = test_table[test_table['browser'] != 'Opera']"
   ]
  },
  {
   "cell_type": "code",
   "execution_count": 50,
   "metadata": {},
   "outputs": [],
   "source": [
    "control = subset[subset['test'] ==0]['pages_visited'].values\n",
    "test = subset[subset['test'] ==1]['pages_visited'].values"
   ]
  },
  {
   "cell_type": "code",
   "execution_count": 54,
   "metadata": {},
   "outputs": [
    {
     "data": {
      "text/plain": [
       "4.403954129457701e-08"
      ]
     },
     "execution_count": 54,
     "metadata": {},
     "output_type": "execute_result"
    }
   ],
   "source": [
    "ss.ttest_ind(control, test, equal_var= False).pvalue"
   ]
  },
  {
   "cell_type": "code",
   "execution_count": 55,
   "metadata": {},
   "outputs": [],
   "source": [
    "# Test is significant now"
   ]
  },
  {
   "cell_type": "code",
   "execution_count": null,
   "metadata": {},
   "outputs": [],
   "source": []
  }
 ],
 "metadata": {
  "kernelspec": {
   "display_name": "Python 3",
   "language": "python",
   "name": "python3"
  },
  "language_info": {
   "codemirror_mode": {
    "name": "ipython",
    "version": 3
   },
   "file_extension": ".py",
   "mimetype": "text/x-python",
   "name": "python",
   "nbconvert_exporter": "python",
   "pygments_lexer": "ipython3",
   "version": "3.6.2"
  }
 },
 "nbformat": 4,
 "nbformat_minor": 2
}
